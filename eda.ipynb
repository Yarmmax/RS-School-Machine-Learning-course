{
 "cells": [
  {
   "cell_type": "markdown",
   "id": "8859efed",
   "metadata": {},
   "source": [
    "Подключаем библиотеки"
   ]
  },
  {
   "cell_type": "code",
   "execution_count": 70,
   "id": "b44c1b1e",
   "metadata": {},
   "outputs": [],
   "source": [
    "import pandas as pd\n",
    "import numpy as np\n",
    "import seaborn as sns\n",
    "import matplotlib.pyplot as plt\n",
    "import matplotlib.patches as mpatches"
   ]
  },
  {
   "cell_type": "markdown",
   "id": "91187cf3",
   "metadata": {},
   "source": [
    "Загружаем данные"
   ]
  },
  {
   "cell_type": "code",
   "execution_count": 71,
   "id": "4c92950b",
   "metadata": {},
   "outputs": [],
   "source": [
    "dataset = pd.read_csv('for_eda.csv')"
   ]
  },
  {
   "cell_type": "code",
   "execution_count": 72,
   "id": "a21f488a",
   "metadata": {},
   "outputs": [
    {
     "data": {
      "text/plain": [
       "(100000, 12)"
      ]
     },
     "execution_count": 72,
     "metadata": {},
     "output_type": "execute_result"
    }
   ],
   "source": [
    "dataset.shape"
   ]
  },
  {
   "cell_type": "markdown",
   "id": "cbbc8c3e",
   "metadata": {},
   "source": [
    "# Context"
   ]
  },
  {
   "cell_type": "code",
   "execution_count": 73,
   "id": "0065ca20",
   "metadata": {},
   "outputs": [
    {
     "data": {
      "text/html": [
       "<div>\n",
       "<style scoped>\n",
       "    .dataframe tbody tr th:only-of-type {\n",
       "        vertical-align: middle;\n",
       "    }\n",
       "\n",
       "    .dataframe tbody tr th {\n",
       "        vertical-align: top;\n",
       "    }\n",
       "\n",
       "    .dataframe thead th {\n",
       "        text-align: right;\n",
       "    }\n",
       "</style>\n",
       "<table border=\"1\" class=\"dataframe\">\n",
       "  <thead>\n",
       "    <tr style=\"text-align: right;\">\n",
       "      <th></th>\n",
       "      <th>PassengerId</th>\n",
       "      <th>Survived</th>\n",
       "      <th>Pclass</th>\n",
       "      <th>Name</th>\n",
       "      <th>Sex</th>\n",
       "      <th>Age</th>\n",
       "      <th>SibSp</th>\n",
       "      <th>Parch</th>\n",
       "      <th>Ticket</th>\n",
       "      <th>Fare</th>\n",
       "      <th>Cabin</th>\n",
       "      <th>Embarked</th>\n",
       "    </tr>\n",
       "  </thead>\n",
       "  <tbody>\n",
       "    <tr>\n",
       "      <th>0</th>\n",
       "      <td>0</td>\n",
       "      <td>1</td>\n",
       "      <td>1</td>\n",
       "      <td>Oconnor, Frankie</td>\n",
       "      <td>male</td>\n",
       "      <td>NaN</td>\n",
       "      <td>2</td>\n",
       "      <td>0</td>\n",
       "      <td>209245</td>\n",
       "      <td>27.14</td>\n",
       "      <td>C12239</td>\n",
       "      <td>S</td>\n",
       "    </tr>\n",
       "    <tr>\n",
       "      <th>1</th>\n",
       "      <td>1</td>\n",
       "      <td>0</td>\n",
       "      <td>3</td>\n",
       "      <td>Bryan, Drew</td>\n",
       "      <td>male</td>\n",
       "      <td>NaN</td>\n",
       "      <td>0</td>\n",
       "      <td>0</td>\n",
       "      <td>27323</td>\n",
       "      <td>13.35</td>\n",
       "      <td>NaN</td>\n",
       "      <td>S</td>\n",
       "    </tr>\n",
       "    <tr>\n",
       "      <th>2</th>\n",
       "      <td>2</td>\n",
       "      <td>0</td>\n",
       "      <td>3</td>\n",
       "      <td>Owens, Kenneth</td>\n",
       "      <td>male</td>\n",
       "      <td>0.33</td>\n",
       "      <td>1</td>\n",
       "      <td>2</td>\n",
       "      <td>CA 457703</td>\n",
       "      <td>71.29</td>\n",
       "      <td>NaN</td>\n",
       "      <td>S</td>\n",
       "    </tr>\n",
       "    <tr>\n",
       "      <th>3</th>\n",
       "      <td>3</td>\n",
       "      <td>0</td>\n",
       "      <td>3</td>\n",
       "      <td>Kramer, James</td>\n",
       "      <td>male</td>\n",
       "      <td>19.00</td>\n",
       "      <td>0</td>\n",
       "      <td>0</td>\n",
       "      <td>A. 10866</td>\n",
       "      <td>13.04</td>\n",
       "      <td>NaN</td>\n",
       "      <td>S</td>\n",
       "    </tr>\n",
       "    <tr>\n",
       "      <th>4</th>\n",
       "      <td>4</td>\n",
       "      <td>1</td>\n",
       "      <td>3</td>\n",
       "      <td>Bond, Michael</td>\n",
       "      <td>male</td>\n",
       "      <td>25.00</td>\n",
       "      <td>0</td>\n",
       "      <td>0</td>\n",
       "      <td>427635</td>\n",
       "      <td>7.76</td>\n",
       "      <td>NaN</td>\n",
       "      <td>S</td>\n",
       "    </tr>\n",
       "  </tbody>\n",
       "</table>\n",
       "</div>"
      ],
      "text/plain": [
       "   PassengerId  Survived  Pclass              Name   Sex    Age  SibSp  Parch  \\\n",
       "0            0         1       1  Oconnor, Frankie  male    NaN      2      0   \n",
       "1            1         0       3       Bryan, Drew  male    NaN      0      0   \n",
       "2            2         0       3    Owens, Kenneth  male   0.33      1      2   \n",
       "3            3         0       3     Kramer, James  male  19.00      0      0   \n",
       "4            4         1       3     Bond, Michael  male  25.00      0      0   \n",
       "\n",
       "      Ticket   Fare   Cabin Embarked  \n",
       "0     209245  27.14  C12239        S  \n",
       "1      27323  13.35     NaN        S  \n",
       "2  CA 457703  71.29     NaN        S  \n",
       "3   A. 10866  13.04     NaN        S  \n",
       "4     427635   7.76     NaN        S  "
      ]
     },
     "execution_count": 73,
     "metadata": {},
     "output_type": "execute_result"
    }
   ],
   "source": [
    "dataset.head()"
   ]
  },
  {
   "cell_type": "markdown",
   "id": "06bcd7e0",
   "metadata": {},
   "source": [
    "PassengerId — идентификатор пассажира\n",
    "\n",
    "Survival — поле в котором указано спасся человек (1) или нет (0)\n",
    "\n",
    "Pclass — содержит социально-экономический статус:\n",
    "1) высокий\n",
    "2) средний\n",
    "3) низкий\n",
    "\n",
    "Name — имя пассажира\n",
    "\n",
    "Sex — пол пассажира\n",
    "\n",
    "Age — возраст\n",
    "\n",
    "SibSp — содержит информацию о количестве родственников 2-го порядка (муж, жена, братья, сетры)\n",
    "\n",
    "Parch — содержит информацию о количестве родственников на борту 1-го порядка (мать, отец, дети)\n",
    "\n",
    "Ticket — номер билета\n",
    "\n",
    "Fare — цена билета\n",
    "\n",
    "Cabin — каюта\n",
    "\n",
    "Embarked — порт посадки\n",
    "\n",
    "C — Cherbourg\n",
    "\n",
    "Q — Queenstown\n",
    "\n",
    "S — Southampton"
   ]
  },
  {
   "cell_type": "markdown",
   "id": "60f13013",
   "metadata": {},
   "source": [
    "# Data quality assessment"
   ]
  },
  {
   "cell_type": "markdown",
   "id": "fd1a1dcd",
   "metadata": {},
   "source": [
    "Количество элементов nan в датафрейме."
   ]
  },
  {
   "cell_type": "code",
   "execution_count": 74,
   "id": "5319b69d",
   "metadata": {},
   "outputs": [
    {
     "data": {
      "text/plain": [
       "PassengerId        0\n",
       "Survived           0\n",
       "Pclass             0\n",
       "Name               0\n",
       "Sex                0\n",
       "Age             3292\n",
       "SibSp              0\n",
       "Parch              0\n",
       "Ticket          4623\n",
       "Fare             134\n",
       "Cabin          67866\n",
       "Embarked         250\n",
       "dtype: int64"
      ]
     },
     "execution_count": 74,
     "metadata": {},
     "output_type": "execute_result"
    }
   ],
   "source": [
    "dataset.isna().sum()"
   ]
  },
  {
   "cell_type": "markdown",
   "id": "ecef95ab",
   "metadata": {},
   "source": [
    "Количество пропущенных значений в столбце Cabin значительно, но мы не можем заполнить их значениями основываясь на известных\n",
    "данных. Хоть пропущенных значений Ticket немного, но обработать мы их так же не можем, по аналогичной ситуации с Cabin. Пропущенные значения Age мы можем обработать. Так как скорее всего значения Age и Fare будут\n",
    "коррелировать с другими переменными, такими как Pclass (что вполне лоигчно предположить, ведь, чем старе человек, тем скорее\n",
    "всего он будет состоятельнее и позволет себе более высокий по статусу класс), тогда произведём замену пропущенных значений Age \n",
    "и Fare на их средние значения по классам; пропущенным значениям Embarked присвоим порт в котором село больше всего людей:"
   ]
  },
  {
   "cell_type": "code",
   "execution_count": 75,
   "id": "e959c729",
   "metadata": {},
   "outputs": [],
   "source": [
    "#Age\n",
    "dataset.loc[(dataset['Pclass'] == 1) & (dataset['Age'].isna()), 'Age'] = dataset[dataset.Pclass == 1].Age.median()\n",
    "dataset.loc[(dataset['Pclass'] == 2) & (dataset['Age'].isna()), 'Age'] = dataset[dataset.Pclass == 2].Age.median()\n",
    "dataset.loc[(dataset['Pclass'] == 3) & (dataset['Age'].isna()), 'Age'] = dataset[dataset.Pclass == 3].Age.median()\n",
    "#Fare\n",
    "dataset.loc[(dataset['Pclass'] == 1) & (dataset['Fare'].isna()), 'Fare'] = dataset[dataset.Pclass == 1].Fare.median()\n",
    "dataset.loc[(dataset['Pclass'] == 2) & (dataset['Fare'].isna()), 'Fare'] = dataset[dataset.Pclass == 2].Fare.median()\n",
    "dataset.loc[(dataset['Pclass'] == 3) & (dataset['Fare'].isna()), 'Fare'] = dataset[dataset.Pclass == 3].Fare.median()\n",
    "#Embarked\n",
    "dataset.loc[dataset['Embarked'].isna(), 'Embarked'] = 'S'"
   ]
  },
  {
   "cell_type": "markdown",
   "id": "a1683d1f",
   "metadata": {},
   "source": [
    "# Data exploration"
   ]
  },
  {
   "cell_type": "markdown",
   "id": "b1ceafb8",
   "metadata": {},
   "source": [
    "### Попробуем проследить как характеристики как в отдельности, так и в совокупности влияют на выживаемость пассажиров"
   ]
  },
  {
   "cell_type": "markdown",
   "id": "b31219dd",
   "metadata": {},
   "source": [
    "Процент выживших в зависимости от класса (социально-экономичсекий статус):"
   ]
  },
  {
   "cell_type": "code",
   "execution_count": 76,
   "id": "65032fb1",
   "metadata": {},
   "outputs": [
    {
     "data": {
      "text/plain": [
       "<AxesSubplot:xlabel='Survived', ylabel='Pclass'>"
      ]
     },
     "execution_count": 76,
     "metadata": {},
     "output_type": "execute_result"
    },
    {
     "data": {
      "image/png": "[encoded data removed]",
      "text/plain": [
       "<Figure size 432x288 with 2 Axes>"
      ]
     },
     "metadata": {
      "needs_background": "light"
     },
     "output_type": "display_data"
    }
   ],
   "source": [
    "group = dataset.groupby(['Pclass', 'Survived'])\n",
    "pclass_survived = group.size().unstack()\n",
    "sns.heatmap(pclass_survived, annot = True, fmt =\"d\")"
   ]
  },
  {
   "cell_type": "code",
   "execution_count": 77,
   "id": "81384e58",
   "metadata": {},
   "outputs": [
    {
     "data": {
      "image/png": "[encoded data removed]",
      "text/plain": [
       "<Figure size 432x288 with 1 Axes>"
      ]
     },
     "metadata": {
      "needs_background": "light"
     },
     "output_type": "display_data"
    }
   ],
   "source": [
    "total = dataset.groupby('Pclass')['PassengerId'].sum().reset_index()\n",
    "bar1 = sns.barplot(x='Pclass',  y='PassengerId', data=total, color='red')\n",
    "survived = dataset[dataset.Survived==1]\n",
    "bar2 = sns.barplot(x='Pclass',  y='PassengerId', data=survived, estimator=sum, ci=None,  color='green')\n",
    "top_bar = mpatches.Patch(color='red', label='Survived = No')\n",
    "bottom_bar = mpatches.Patch(color='green', label='Survived = Yes')\n",
    "plt.legend(handles=[top_bar, bottom_bar])\n",
    "plt.show()"
   ]
  },
  {
   "cell_type": "markdown",
   "id": "c52477f5",
   "metadata": {},
   "source": [
    "Наглядно видим, что вероятность выжить была выше, при условиию, что пассажир пребывал в более состоятельном классе,\n",
    "причём разница в проценте выживших между средним и высоким классом была незначительна, в то время как низкий класс представлял значительное различие, то есть вероятность выжить в низком классе была значительно больше, чем в среднем или в высоком."
   ]
  },
  {
   "cell_type": "markdown",
   "id": "bddcad40",
   "metadata": {},
   "source": [
    "Проверим, как пол влияет на выживаемость пассажира:"
   ]
  },
  {
   "cell_type": "code",
   "execution_count": 78,
   "id": "532a3c5f",
   "metadata": {},
   "outputs": [
    {
     "data": {
      "text/plain": [
       "<AxesSubplot:xlabel='Sex'>"
      ]
     },
     "execution_count": 78,
     "metadata": {},
     "output_type": "execute_result"
    },
    {
     "data": {
      "image/png": "[encoded data removed]",
      "text/plain": [
       "<Figure size 432x288 with 1 Axes>"
      ]
     },
     "metadata": {
      "needs_background": "light"
     },
     "output_type": "display_data"
    }
   ],
   "source": [
    "dataset.pivot_table('PassengerId', 'Sex', 'Survived', 'count').plot(kind='bar', stacked=True)\n",
    "#sns.catplot(x =\"Sex\", hue =\"Survived\",\n",
    "#kind =\"count\", data = dataset)"
   ]
  },
  {
   "cell_type": "markdown",
   "id": "6611f67e",
   "metadata": {},
   "source": [
    "Заметим, что выживаемость у пассажиров женского пола значительно выше, чем у мужского."
   ]
  },
  {
   "cell_type": "markdown",
   "id": "b4c2b383",
   "metadata": {},
   "source": [
    "Сделаем более детальный анализ, добавив в наш график переменную Age:"
   ]
  },
  {
   "cell_type": "code",
   "execution_count": 79,
   "id": "dd86682f",
   "metadata": {},
   "outputs": [
    {
     "data": {
      "text/plain": [
       "<AxesSubplot:xlabel='Sex', ylabel='Age'>"
      ]
     },
     "execution_count": 79,
     "metadata": {},
     "output_type": "execute_result"
    },
    {
     "data": {
      "image/png": "[encoded data removed]",
      "text/plain": [
       "<Figure size 432x288 with 1 Axes>"
      ]
     },
     "metadata": {
      "needs_background": "light"
     },
     "output_type": "display_data"
    }
   ],
   "source": [
    "sns.violinplot(x =\"Sex\", y =\"Age\", hue =\"Survived\",\n",
    "data = dataset, split = True)"
   ]
  },
  {
   "cell_type": "markdown",
   "id": "c5da3ea1",
   "metadata": {},
   "source": [
    "Отметим несколько фактов:\n",
    "\n",
    "1.С повышением возраста у мужчины увеличивались шансы выжить\n",
    "\n",
    "2.Среди детей выжило примерно около половины, причём детей женского пола погибло больше\n",
    "\n",
    "3.Высокий шанс выживания был у женщин в возрасте 25-70 лет"
   ]
  },
  {
   "cell_type": "markdown",
   "id": "14d23cf0",
   "metadata": {},
   "source": [
    "\n",
    "Теперь проанализируем как количество родственников влияло на выживание пассажира:"
   ]
  },
  {
   "cell_type": "code",
   "execution_count": 80,
   "id": "282fbfb9",
   "metadata": {},
   "outputs": [
    {
     "name": "stderr",
     "output_type": "stream",
     "text": [
      "C:\\Users\\Lenovo\\anaconda3\\lib\\site-packages\\seaborn\\categorical.py:3717: UserWarning: The `factorplot` function has been renamed to `catplot`. The original name will be removed in a future release. Please update your code. Note that the default `kind` in `factorplot` (`'point'`) has changed `'strip'` in `catplot`.\n",
      "  warnings.warn(msg)\n",
      "C:\\Users\\Lenovo\\anaconda3\\lib\\site-packages\\seaborn\\categorical.py:3717: UserWarning: The `factorplot` function has been renamed to `catplot`. The original name will be removed in a future release. Please update your code. Note that the default `kind` in `factorplot` (`'point'`) has changed `'strip'` in `catplot`.\n",
      "  warnings.warn(msg)\n"
     ]
    },
    {
     "data": {
      "image/png": "[encoded data removed]",
      "text/plain": [
       "<Figure size 360x360 with 1 Axes>"
      ]
     },
     "metadata": {
      "needs_background": "light"
     },
     "output_type": "display_data"
    },
    {
     "data": {
      "image/png": "[encoded data removed]",
      "text/plain": [
       "<Figure size 360x360 with 1 Axes>"
      ]
     },
     "metadata": {
      "needs_background": "light"
     },
     "output_type": "display_data"
    }
   ],
   "source": [
    "dataset['Family_Size'] = 0\n",
    "dataset['Family_Size'] = dataset['Parch']+dataset['SibSp']\n",
    "\n",
    "dataset['Alone'] = 0\n",
    "dataset.loc[dataset.Family_Size == 0, 'Alone'] = 1\n",
    "\n",
    "sns.factorplot(x ='Family_Size', y ='Survived', data = dataset)\n",
    " \n",
    "sns.factorplot(x ='Alone', y ='Survived', data = dataset)\n",
    "top_bar = mpatches.Patch(label='1 = Alone')\n",
    "bottom_bar = mpatches.Patch(label='0 = Not alone')\n",
    "plt.legend(handles=[top_bar, bottom_bar])\n",
    "plt.show()"
   ]
  },
  {
   "cell_type": "markdown",
   "id": "99abaeb4",
   "metadata": {},
   "source": [
    "На первом графике отметим, что количество родственников в значении 6-8 родственников незначительно уменьшало шансы\n",
    "пассажира выжить, в то время как в значениях от 11 и больше, шансы пассажира выжить значительно уменьшались (учтём, что\n",
    "пассажиров с 17 родственников было всего двое, поэтому значение 17 можно считать выбросом, ввиду недостаточного количества\n",
    "пассажиров, для корректного отображения вероятности)\n",
    "На втором графике отчётливо видно, что одинокие пассажиры имели гораздо  меньше шансов выжить, чем пассажиры с\n",
    "родственниками."
   ]
  },
  {
   "cell_type": "code",
   "execution_count": 81,
   "id": "9e5382fb",
   "metadata": {},
   "outputs": [
    {
     "data": {
      "text/plain": [
       "<AxesSubplot:>"
      ]
     },
     "execution_count": 81,
     "metadata": {},
     "output_type": "execute_result"
    },
    {
     "data": {
      "image/png": "[encoded data removed]",
      "text/plain": [
       "<Figure size 432x288 with 1 Axes>"
      ]
     },
     "metadata": {
      "needs_background": "light"
     },
     "output_type": "display_data"
    }
   ],
   "source": [
    "dataset.Fare.hist()\n",
    "#описать"
   ]
  },
  {
   "cell_type": "code",
   "execution_count": 82,
   "id": "1632fdf5",
   "metadata": {},
   "outputs": [
    {
     "data": {
      "text/plain": [
       "0.67866"
      ]
     },
     "execution_count": 82,
     "metadata": {},
     "output_type": "execute_result"
    }
   ],
   "source": [
    "dataset.Cabin.isna().sum() / 100000\n",
    "# проанализировать зависимость выживания от известности номера кабины"
   ]
  },
  {
   "cell_type": "code",
   "execution_count": 83,
   "id": "65a37747",
   "metadata": {},
   "outputs": [
    {
     "data": {
      "text/html": [
       "<div>\n",
       "<style scoped>\n",
       "    .dataframe tbody tr th:only-of-type {\n",
       "        vertical-align: middle;\n",
       "    }\n",
       "\n",
       "    .dataframe tbody tr th {\n",
       "        vertical-align: top;\n",
       "    }\n",
       "\n",
       "    .dataframe thead th {\n",
       "        text-align: right;\n",
       "    }\n",
       "</style>\n",
       "<table border=\"1\" class=\"dataframe\">\n",
       "  <thead>\n",
       "    <tr style=\"text-align: right;\">\n",
       "      <th>Survived</th>\n",
       "      <th>0</th>\n",
       "      <th>1</th>\n",
       "    </tr>\n",
       "    <tr>\n",
       "      <th>SibSp</th>\n",
       "      <th></th>\n",
       "      <th></th>\n",
       "    </tr>\n",
       "  </thead>\n",
       "  <tbody>\n",
       "    <tr>\n",
       "      <th>0</th>\n",
       "      <td>42017</td>\n",
       "      <td>31291</td>\n",
       "    </tr>\n",
       "    <tr>\n",
       "      <th>1</th>\n",
       "      <td>11188</td>\n",
       "      <td>8570</td>\n",
       "    </tr>\n",
       "    <tr>\n",
       "      <th>2</th>\n",
       "      <td>2022</td>\n",
       "      <td>1681</td>\n",
       "    </tr>\n",
       "    <tr>\n",
       "      <th>3</th>\n",
       "      <td>981</td>\n",
       "      <td>654</td>\n",
       "    </tr>\n",
       "    <tr>\n",
       "      <th>4</th>\n",
       "      <td>729</td>\n",
       "      <td>439</td>\n",
       "    </tr>\n",
       "    <tr>\n",
       "      <th>5</th>\n",
       "      <td>107</td>\n",
       "      <td>25</td>\n",
       "    </tr>\n",
       "    <tr>\n",
       "      <th>8</th>\n",
       "      <td>182</td>\n",
       "      <td>114</td>\n",
       "    </tr>\n",
       "  </tbody>\n",
       "</table>\n",
       "</div>"
      ],
      "text/plain": [
       "Survived      0      1\n",
       "SibSp                 \n",
       "0         42017  31291\n",
       "1         11188   8570\n",
       "2          2022   1681\n",
       "3           981    654\n",
       "4           729    439\n",
       "5           107     25\n",
       "8           182    114"
      ]
     },
     "execution_count": 83,
     "metadata": {},
     "output_type": "execute_result"
    }
   ],
   "source": [
    "temp_df = dataset.pivot_table('PassengerId', ['SibSp'], 'Survived', 'count')\n",
    "temp_df\n",
    "# посмотреть для женщин и мужчин отдельно"
   ]
  },
  {
   "cell_type": "code",
   "execution_count": 84,
   "id": "5b6b1a91",
   "metadata": {},
   "outputs": [
    {
     "data": {
      "text/plain": [
       "<AxesSubplot:title={'center':'Parch'}, xlabel='Parch'>"
      ]
     },
     "execution_count": 84,
     "metadata": {},
     "output_type": "execute_result"
    },
    {
     "data": {
      "image/png": "[encoded data removed]",
      "text/plain": [
       "<Figure size 432x288 with 1 Axes>"
      ]
     },
     "metadata": {
      "needs_background": "light"
     },
     "output_type": "display_data"
    },
    {
     "data": {
      "image/png": "[encoded data removed]",
      "text/plain": [
       "<Figure size 432x288 with 1 Axes>"
      ]
     },
     "metadata": {
      "needs_background": "light"
     },
     "output_type": "display_data"
    }
   ],
   "source": [
    "dataset.pivot_table('PassengerId', ['SibSp'], 'Survived', 'count').plot(title='SibSp')\n",
    "dataset.pivot_table('PassengerId', ['Parch'], 'Survived', 'count').plot(title='Parch')"
   ]
  },
  {
   "cell_type": "code",
   "execution_count": 85,
   "id": "32194cd1",
   "metadata": {},
   "outputs": [
    {
     "data": {
      "text/plain": [
       "0.42774"
      ]
     },
     "execution_count": 85,
     "metadata": {},
     "output_type": "execute_result"
    }
   ],
   "source": [
    "#процент выживших\n",
    "dataset[dataset.Survived == 1].Survived.count() / dataset.Survived.count()"
   ]
  },
  {
   "cell_type": "markdown",
   "id": "cd0e2c84",
   "metadata": {},
   "source": [
    "Заметим странную, но интересную закономерность, что значительная часть пассажиров, находящихся в одинаковых каютах\n",
    "в своём большинстве оплачивали цену за билет, существенно отличающуюся  между собой."
   ]
  },
  {
   "cell_type": "code",
   "execution_count": 86,
   "id": "d7ca338e",
   "metadata": {},
   "outputs": [
    {
     "data": {
      "text/plain": [
       "0.5114813147230977"
      ]
     },
     "execution_count": 86,
     "metadata": {},
     "output_type": "execute_result"
    }
   ],
   "source": [
    "#df = dataset.dropna(axis='index', how='any')\n",
    "fare_of_cabin = dataset.groupby('Cabin').agg({'Fare':'std'}).dropna().sort_values(by=['Fare'], ascending=False)\n",
    "fare_of_cabin[fare_of_cabin.Fare > 40].Fare.count() / fare_of_cabin.Fare.count()"
   ]
  },
  {
   "cell_type": "markdown",
   "id": "c7f3fe2c",
   "metadata": {},
   "source": [
    "Посмотрим на наличие возможных статистических связей между признаками объектов используя матрицу корреляций. Можно сделать предварительные выводы, которые подтверждают мысли высказанные ранее. В частности, что шансы выжить уменьшаются с ростом класса и возраст — очень слабый признак для построения модели. Также можно обнаружить и другие закономерности. Между возрастом и классом существует отрицательная корреляция, что, скорее всего, связано с более возрастные пассажиры чаще могли себе позволить более дорогую каюту. Кроме того, стоимость билета и класс тесно связаны (значительный коэффициент корреляции), что вполне ожидаемо."
   ]
  },
  {
   "cell_type": "code",
   "execution_count": 87,
   "id": "3431c43b",
   "metadata": {},
   "outputs": [],
   "source": [
    "dataset = pd.read_csv('for_eda.csv')"
   ]
  },
  {
   "cell_type": "code",
   "execution_count": 88,
   "id": "a339a32b",
   "metadata": {},
   "outputs": [
    {
     "data": {
      "text/plain": [
       "<AxesSubplot:>"
      ]
     },
     "execution_count": 88,
     "metadata": {},
     "output_type": "execute_result"
    },
    {
     "data": {
      "image/png": "[encoded data removed]",
      "text/plain": [
       "<Figure size 432x288 with 2 Axes>"
      ]
     },
     "metadata": {
      "needs_background": "light"
     },
     "output_type": "display_data"
    }
   ],
   "source": [
    "dataset.loc[dataset.Sex == 'male', 'Sex'], dataset.loc[dataset.Sex == 'female', 'Sex'] = 0, 1\n",
    "df = dataset.drop(['PassengerId', 'Cabin', 'Name', 'Ticket', 'Embarked'], axis=1)\n",
    "df[\"Sex\"] = pd.to_numeric(df[\"Sex\"])\n",
    "sns.heatmap(data=df.corr(), annot=True)"
   ]
  },
  {
   "cell_type": "code",
   "execution_count": 89,
   "id": "cb675b9c",
   "metadata": {},
   "outputs": [
    {
     "data": {
      "text/plain": [
       "(250,)"
      ]
     },
     "execution_count": 89,
     "metadata": {},
     "output_type": "execute_result"
    }
   ],
   "source": [
    "dataset[dataset.Embarked.isnull()].Embarked.shape"
   ]
  },
  {
   "cell_type": "code",
   "execution_count": 90,
   "id": "ef12b6ca",
   "metadata": {},
   "outputs": [],
   "source": [
    "#df['isCabin']"
   ]
  },
  {
   "cell_type": "code",
   "execution_count": 91,
   "id": "d4293916",
   "metadata": {},
   "outputs": [
    {
     "data": {
      "text/html": [
       "<div>\n",
       "<style scoped>\n",
       "    .dataframe tbody tr th:only-of-type {\n",
       "        vertical-align: middle;\n",
       "    }\n",
       "\n",
       "    .dataframe tbody tr th {\n",
       "        vertical-align: top;\n",
       "    }\n",
       "\n",
       "    .dataframe thead th {\n",
       "        text-align: right;\n",
       "    }\n",
       "</style>\n",
       "<table border=\"1\" class=\"dataframe\">\n",
       "  <thead>\n",
       "    <tr style=\"text-align: right;\">\n",
       "      <th></th>\n",
       "      <th>Fare</th>\n",
       "    </tr>\n",
       "    <tr>\n",
       "      <th>Pclass</th>\n",
       "      <th></th>\n",
       "    </tr>\n",
       "  </thead>\n",
       "  <tbody>\n",
       "    <tr>\n",
       "      <th>1</th>\n",
       "      <td>63.58</td>\n",
       "    </tr>\n",
       "    <tr>\n",
       "      <th>2</th>\n",
       "      <td>22.72</td>\n",
       "    </tr>\n",
       "    <tr>\n",
       "      <th>3</th>\n",
       "      <td>10.96</td>\n",
       "    </tr>\n",
       "  </tbody>\n",
       "</table>\n",
       "</div>"
      ],
      "text/plain": [
       "         Fare\n",
       "Pclass       \n",
       "1       63.58\n",
       "2       22.72\n",
       "3       10.96"
      ]
     },
     "execution_count": 91,
     "metadata": {},
     "output_type": "execute_result"
    }
   ],
   "source": [
    "dataset.groupby('Pclass').agg({'Fare':'median'})"
   ]
  },
  {
   "cell_type": "code",
   "execution_count": 92,
   "id": "f4dc6a0b",
   "metadata": {},
   "outputs": [
    {
     "data": {
      "text/html": [
       "<div>\n",
       "<style scoped>\n",
       "    .dataframe tbody tr th:only-of-type {\n",
       "        vertical-align: middle;\n",
       "    }\n",
       "\n",
       "    .dataframe tbody tr th {\n",
       "        vertical-align: top;\n",
       "    }\n",
       "\n",
       "    .dataframe thead th {\n",
       "        text-align: right;\n",
       "    }\n",
       "</style>\n",
       "<table border=\"1\" class=\"dataframe\">\n",
       "  <thead>\n",
       "    <tr style=\"text-align: right;\">\n",
       "      <th></th>\n",
       "      <th>PassengerId</th>\n",
       "    </tr>\n",
       "    <tr>\n",
       "      <th>Embarked</th>\n",
       "      <th></th>\n",
       "    </tr>\n",
       "  </thead>\n",
       "  <tbody>\n",
       "    <tr>\n",
       "      <th>C</th>\n",
       "      <td>22187</td>\n",
       "    </tr>\n",
       "    <tr>\n",
       "      <th>Q</th>\n",
       "      <td>5424</td>\n",
       "    </tr>\n",
       "    <tr>\n",
       "      <th>S</th>\n",
       "      <td>72139</td>\n",
       "    </tr>\n",
       "  </tbody>\n",
       "</table>\n",
       "</div>"
      ],
      "text/plain": [
       "          PassengerId\n",
       "Embarked             \n",
       "C               22187\n",
       "Q                5424\n",
       "S               72139"
      ]
     },
     "execution_count": 92,
     "metadata": {},
     "output_type": "execute_result"
    }
   ],
   "source": [
    "dataset.groupby('Embarked').agg({'PassengerId':'count'})"
   ]
  },
  {
   "cell_type": "markdown",
   "id": "ba4ed8bc",
   "metadata": {},
   "source": [
    "Заметим, что у цены билета в независимости от класса очень велико значения разброса:"
   ]
  },
  {
   "cell_type": "code",
   "execution_count": 93,
   "id": "5e514871",
   "metadata": {},
   "outputs": [
    {
     "name": "stdout",
     "output_type": "stream",
     "text": [
      "640.79 0.68 613.43 1.72 744.66 3.38\n"
     ]
    }
   ],
   "source": [
    "# нужен график\n",
    "#dataset.pivot_table('Fare', 'Pclass', 'Survived', 'max').plot(kind='bar', stacked=True)\n",
    "print(dataset[dataset.Pclass == 3].Fare.max(), dataset[dataset.Pclass == 3].Fare.min(),\n",
    "      dataset[dataset.Pclass == 2].Fare.max(), dataset[dataset.Pclass == 2].Fare.min(),\n",
    "     dataset[dataset.Pclass == 1].Fare.max(), dataset[dataset.Pclass == 1].Fare.min())"
   ]
  },
  {
   "cell_type": "markdown",
   "id": "da248d45",
   "metadata": {},
   "source": [
    "На основе этого можно сделать вывод, что цена билета значительно затрудняет определение пассажира к какому-то определённому\n",
    "классу."
   ]
  },
  {
   "cell_type": "code",
   "execution_count": null,
   "id": "e2356108",
   "metadata": {},
   "outputs": [],
   "source": [
    "Проверим, влияет ли длина имени на выживаемость (возможно длинные имена и двойные фамилии были только у аристократичных\n",
    "пассажиров):"
   ]
  },
  {
   "cell_type": "code",
   "execution_count": 120,
   "id": "6537bc46",
   "metadata": {},
   "outputs": [
    {
     "data": {
      "text/plain": [
       "<AxesSubplot:xlabel='Survived', ylabel='len_of_name'>"
      ]
     },
     "execution_count": 120,
     "metadata": {},
     "output_type": "execute_result"
    },
    {
     "data": {
      "image/png": "[encoded data removed]",
      "text/plain": [
       "<Figure size 432x288 with 1 Axes>"
      ]
     },
     "metadata": {
      "needs_background": "light"
     },
     "output_type": "display_data"
    }
   ],
   "source": [
    "#df = dataset[['']]\n",
    "dataset['len_of_name'] = dataset.Name.apply(len)\n",
    "#dataset.sort_values(by=['len_of_name'], ascending=False).\n",
    "sns.scatterplot(x=dataset.Survived, y=dataset.len_of_name)\n"
   ]
  },
  {
   "cell_type": "markdown",
   "id": "f1720e26",
   "metadata": {},
   "source": [
    "Как видим, длина имени не даёт значительных различий для классификации выживших."
   ]
  },
  {
   "cell_type": "code",
   "execution_count": null,
   "id": "184d3db2",
   "metadata": {},
   "outputs": [],
   "source": [
    "Проверим гипотезу о том, что люди, каюты которых известы, скорее всего выжили:"
   ]
  },
  {
   "cell_type": "code",
   "execution_count": 108,
   "id": "65a99bbb",
   "metadata": {},
   "outputs": [],
   "source": [
    "dataset.loc[dataset.Cabin.isna() , 'Cabin'] = 0\n",
    "dataset.loc[dataset.Cabin != 0, 'Cabin'] = 1"
   ]
  },
  {
   "cell_type": "code",
   "execution_count": 103,
   "id": "2404a63e",
   "metadata": {},
   "outputs": [
    {
     "data": {
      "image/png": "[encoded data removed]",
      "text/plain": [
       "<Figure size 432x288 with 1 Axes>"
      ]
     },
     "metadata": {
      "needs_background": "light"
     },
     "output_type": "display_data"
    }
   ],
   "source": [
    "total = dataset.groupby('Cabin')['PassengerId'].sum().reset_index()\n",
    "bar1 = sns.barplot(x='Cabin',  y='PassengerId', data=total, color='red')\n",
    "survived = dataset[dataset.Survived==1]\n",
    "bar2 = sns.barplot(x='Cabin',  y='PassengerId', data=survived, estimator=sum, ci=None,  color='green')\n",
    "top_bar = mpatches.Patch(color='red', label='Survived = No')\n",
    "bottom_bar = mpatches.Patch(color='green', label='Survived = Yes')\n",
    "plt.legend(handles=[top_bar, bottom_bar])\n",
    "plt.show()"
   ]
  },
  {
   "cell_type": "markdown",
   "id": "28b67b63",
   "metadata": {},
   "source": [
    "Как видим, процент выживших людей, номер каюты которых известен, значительно больше, чем людей, номер каюты который узнать \n",
    "не удалось."
   ]
  },
  {
   "cell_type": "markdown",
   "id": "7d885df4",
   "metadata": {},
   "source": [
    "# Summary\n"
   ]
  },
  {
   "cell_type": "markdown",
   "id": "b686a933",
   "metadata": {},
   "source": [
    "Данные были обработаны:пропущенные значения заполнялись, там где это было возможно медианным значением, с разделением на класс,\n",
    "там где не было возможно заполнить, оставались так, с дальнейшей возможностью удаления, либо с их дальнейшим использованием.\n",
    "Большие данные датасета были проанализированны с помощью всевозможных графиков, а также корреляционной матрицыю\n",
    "По итогу можно определить, что наиболее важные характеристики, определяющие вероятность пассажира выжить, оказались:\n",
    "Sex, Age, Pclass, Fare, SibSp, Parch, Cabin\n",
    "Остальные же признаки не дали столь существенной пользы в классификации выживших пассажиров.\n",
    "После завершения EDA результирующий набор данных можно использовать для более-менее точных прогнозов."
   ]
  }
 ],
 "metadata": {
  "kernelspec": {
   "display_name": "Python 3 (ipykernel)",
   "language": "python",
   "name": "python3"
  },
  "language_info": {
   "codemirror_mode": {
    "name": "ipython",
    "version": 3
   },
   "file_extension": ".py",
   "mimetype": "text/x-python",
   "name": "python",
   "nbconvert_exporter": "python",
   "pygments_lexer": "ipython3",
   "version": "3.9.7"
  }
 },
 "nbformat": 4,
 "nbformat_minor": 5
}
